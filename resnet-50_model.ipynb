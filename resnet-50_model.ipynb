{
 "cells": [
  {
   "attachments": {},
   "cell_type": "markdown",
   "metadata": {},
   "source": [
    "#  Resnet model - Cosine Similarity\n",
    "\n",
    "This file contains the implementation of the Transfer Learning Resnet model and the cosine similarity "
   ]
  },
  {
   "cell_type": "code",
   "execution_count": null,
   "metadata": {},
   "outputs": [],
   "source": [
    "# Import libraries\n",
    "import torch\n",
    "import torch.nn as nn\n",
    "import torch.optim as optim\n",
    "import torchvision\n",
    "import torchvision.transforms as transforms\n",
    "from torchvision.models import resnet50\n",
    "import torch.nn.functional as F\n",
    "from PIL import Image\n",
    "import os\n",
    "import warnings\n",
    "\n",
    "warnings.filterwarnings('always') \n",
    "\n",
    "EPOCHS = 5\n",
    "LEARNING_RATE = 0.0001\n",
    "BATCH_SIZE = 32"
   ]
  },
  {
   "cell_type": "code",
   "execution_count": null,
   "metadata": {},
   "outputs": [],
   "source": [
    "# Set GPU/MPS growth for the model training\n",
    "device = torch.device('mps')"
   ]
  },
  {
   "cell_type": "code",
   "execution_count": null,
   "metadata": {},
   "outputs": [],
   "source": [
    "# Path to the train and evaluation folders\n",
    "train_data_folder = './train'\n",
    "test_data_folder = './test'\n",
    "\n",
    "# Number of classes is equal to the number of videos we have as data\n",
    "num_classes = len(os.listdir(train_data_folder))     \n",
    "\n",
    "\n",
    "# Load and transform the training dataset\n",
    "data_transform = {\n",
    "    'train': transforms.Compose([\n",
    "    transforms.Resize((224, 224)),\n",
    "    transforms.RandomAffine(0, shear=10, scale=(0.8,1.2)),\n",
    "    transforms.GaussianBlur(kernel_size=(5, 9), sigma=(0.1, 5)),\n",
    "    transforms.RandomHorizontalFlip(),\n",
    "    transforms.ToTensor(),\n",
    "    transforms.Normalize(mean=[0.485, 0.456, 0.406], std=[0.229, 0.224, 0.225])]),\n",
    "\n",
    "    'test': transforms.Compose([\n",
    "    transforms.Resize((224, 224)),\n",
    "    transforms.ToTensor(),\n",
    "    transforms.Normalize(mean=[0.485, 0.456, 0.406], std=[0.229, 0.224, 0.225])])\n",
    "}\n",
    "\n",
    "\n",
    "# Load and transform the training and evaluation dataset\n",
    "train_dataset = torchvision.datasets.ImageFolder(root=train_data_folder, transform=data_transform['train'])\n",
    "train_loader = torch.utils.data.DataLoader(train_dataset, batch_size=BATCH_SIZE, shuffle=True)\n",
    "\n",
    "test_dataset = torchvision.datasets.ImageFolder(root=test_data_folder, transform=data_transform['test'])\n",
    "test_loader = torch.utils.data.DataLoader(test_dataset, batch_size=BATCH_SIZE, shuffle=False)"
   ]
  },
  {
   "cell_type": "code",
   "execution_count": null,
   "metadata": {},
   "outputs": [],
   "source": [
    "# Create a training results file\n",
    "training_file = open('train.txt', 'a')\n",
    "\n",
    "# Load the pre-trained ResNet-50 model\n",
    "model = resnet50(pretrained=True)\n",
    "\n",
    "# Freeze the initial layers\n",
    "for param in model.parameters():\n",
    "    param.requires_grad = False\n",
    "\n",
    "# Replace the last fully connected layer to match the number of classes\n",
    "num_features = model.fc.in_features\n",
    "model.fc = nn.Linear(num_features, num_classes)\n",
    "\n",
    "# Move the model to the device (GPU/CPU)\n",
    "model = model.to(device)\n",
    "\n",
    "\n",
    "# Define the loss function and optimizer\n",
    "criterion = nn.CrossEntropyLoss()\n",
    "optimizer = optim.SGD(model.parameters(), lr=0.001, momentum=0.9)\n",
    "\n",
    "# Train the model\n",
    "total_step = len(train_loader)\n",
    "\n",
    "\n",
    "for epoch in range(EPOCHS):\n",
    "    correct = 0\n",
    "    total_samples = 0\n",
    "\n",
    "    for i, (images, labels) in enumerate(train_loader):\n",
    "        images = images.to(device)\n",
    "        labels = labels.to(device)\n",
    "\n",
    "        # Forward pass\n",
    "        outputs = model(images)\n",
    "        loss = criterion(outputs, labels)\n",
    "\n",
    "        # Backward and optimize\n",
    "        optimizer.zero_grad()\n",
    "        loss.backward()\n",
    "        optimizer.step()\n",
    "\n",
    "        # Print training progress\n",
    "        if (i + 1) % 100 == 0:\n",
    "            print(f'Epoch [{epoch+1}/{EPOCHS}], Step [{i+1}/{total_step}], Loss: {loss.item():.4f}')\n",
    "\n",
    "\n",
    "        # Compute predictions\n",
    "        with torch.no_grad():\n",
    "            outputs = model(images)\n",
    "            _, predicted = torch.topk(outputs, k=10, dim=1)\n",
    "            total_samples += labels.size(0)\n",
    "            correct += (predicted == labels.view(-1, 1)).sum().item()\n",
    "\n",
    "    # Calculate top-5 accuracy\n",
    "    accuracy = correct / total_samples\n",
    "\n",
    "    # Print precision and recall per epoch\n",
    "    print(f'Epoch [{epoch+1}/{EPOCHS}] - Top 10 Accuracy : {accuracy:.4f}')\n",
    "    training_file.writelines(f'Epoch [{epoch+1}/{EPOCHS}] - Top 10 Accuracy: {accuracy:.4f}\\n')\n",
    "\n",
    "\n",
    "training_file.close()\n",
    "print('Training finished.')\n",
    "\n",
    "# Save the trained model\n",
    "os.makedirs('saved_models', exist_ok=True)\n",
    "torch.save(model.state_dict(), 'saved_models/resnet50_trained.pth')"
   ]
  },
  {
   "attachments": {},
   "cell_type": "markdown",
   "metadata": {},
   "source": [
    "### Import the saved model and get the Linear Layer"
   ]
  },
  {
   "cell_type": "code",
   "execution_count": null,
   "metadata": {},
   "outputs": [],
   "source": [
    "# Load the saved model dictionary\n",
    "model_state = torch.load('saved_models/resnet50_trained.pth')\n",
    "\n",
    "# Create a new instance of the ResNet-50 model and get the Linear Layer as the feature vector\n",
    "new_model = resnet50(pretrained=False)\n",
    "num_features = new_model.fc.in_features\n",
    "new_model.fc = nn.Linear(num_features, num_classes)\n",
    "\n",
    "# Define the new model and use the training results of the model we just trained\n",
    "new_model.load_state_dict(model_state)\n",
    "new_model.to(device)\n",
    "new_model.eval()"
   ]
  },
  {
   "attachments": {},
   "cell_type": "markdown",
   "metadata": {},
   "source": [
    "#### Define the similarity function"
   ]
  },
  {
   "cell_type": "code",
   "execution_count": null,
   "metadata": {},
   "outputs": [],
   "source": [
    "# Define cosine similarity function\n",
    "def cosine_similarity(test_image_features, train_data_features, dim=1, eps=1e-8):\n",
    "    dot_product = torch.sum(test_image_features * train_data_features, dim=dim)\n",
    "    norm_test = torch.norm(test_image_features, dim=dim)\n",
    "    norm_data = torch.norm(train_data_features, dim=dim)\n",
    "    return dot_product / (norm_test * norm_data).clamp(min=eps)"
   ]
  },
  {
   "attachments": {},
   "cell_type": "markdown",
   "metadata": {},
   "source": [
    "### Load data"
   ]
  },
  {
   "cell_type": "code",
   "execution_count": null,
   "metadata": {},
   "outputs": [],
   "source": [
    "# Load the data, in order to extract the features\n",
    "train_dataset = torchvision.datasets.ImageFolder(root=train_data_folder, transform=data_transform['train'])\n",
    "train_loader = torch.utils.data.DataLoader(train_dataset, batch_size=BATCH_SIZE, shuffle=False)"
   ]
  },
  {
   "attachments": {},
   "cell_type": "markdown",
   "metadata": {},
   "source": [
    "### Get the feature vectors for each of the data class"
   ]
  },
  {
   "cell_type": "code",
   "execution_count": null,
   "metadata": {},
   "outputs": [],
   "source": [
    "# Get the features of all images and set them with the labels\n",
    "train_features = []\n",
    "train_labels = []\n",
    "\n",
    "with torch.no_grad():\n",
    "    for images, labels in train_loader:\n",
    "        images = images.to(device)\n",
    "        labels = labels.to(device)\n",
    "\n",
    "        features = new_model(images)\n",
    "        train_features.append(features)\n",
    "        train_labels.append(labels)\n",
    "\n",
    "train_features = torch.cat(train_features, dim=0)\n",
    "train_labels = torch.cat(train_labels, dim=0)"
   ]
  },
  {
   "cell_type": "code",
   "execution_count": null,
   "metadata": {},
   "outputs": [],
   "source": [
    "import matplotlib.pyplot as plt\n",
    "import matplotlib.image as mpimg\n",
    "\n",
    "\n",
    "# Get the test image\n",
    "image_to_compare = data_transform['test'](Image.open('/Users/stamatiosorphanos/Documents/MultiModal-Deep-Learning/MultiModal/test_image.jpeg')).unsqueeze(0).to(device)\n",
    "\n",
    "# Normalize both train and test image feature vectors\n",
    "normalized_train_features = F.normalize(train_features, p=2, dim=1)\n",
    "normalized_image_features = F.normalize(new_model(image_to_compare), p=2, dim=1)\n",
    "\n",
    "# Cosine Similarity for the top 10 most similar frames\n",
    "cos_similarities = cosine_similarity(normalized_image_features, normalized_train_features)\n",
    "top_k_results = torch.topk(cos_similarities, k=10).indices\n",
    "\n",
    "# List of most similar images \n",
    "similar_image_paths = [train_dataset.samples[idx][0] for idx in top_k_results]\n",
    "\n",
    "for similar_image in similar_image_paths:\n",
    "    print(similar_image)\n",
    "    img = mpimg.imread(similar_image)\n",
    "    plt.imshow(img)\n"
   ]
  }
 ],
 "metadata": {
  "kernelspec": {
   "display_name": "Python 3",
   "language": "python",
   "name": "python3"
  },
  "language_info": {
   "codemirror_mode": {
    "name": "ipython",
    "version": 3
   },
   "file_extension": ".py",
   "mimetype": "text/x-python",
   "name": "python",
   "nbconvert_exporter": "python",
   "pygments_lexer": "ipython3",
   "version": "3.10.11"
  },
  "orig_nbformat": 4
 },
 "nbformat": 4,
 "nbformat_minor": 2
}
